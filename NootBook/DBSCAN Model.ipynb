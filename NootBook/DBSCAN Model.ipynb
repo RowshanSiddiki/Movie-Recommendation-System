{
 "cells": [
  {
   "cell_type": "markdown",
   "id": "de3f67fa-8d91-4279-86d2-bf8c4a3e7298",
   "metadata": {},
   "source": [
    "# First import all necessary libraries"
   ]
  },
  {
   "cell_type": "code",
   "execution_count": 2,
   "id": "2e1ebe5c-511e-4025-ae4b-995d7f7a479c",
   "metadata": {},
   "outputs": [],
   "source": [
    "import numpy as np\n",
    "import pandas as pd\n",
    "import matplotlib.pyplot as plt\n",
    "%matplotlib inline\n",
    "import seaborn as sns\n",
    "import warnings\n",
    "\n",
    "warnings.filterwarnings('ignore')"
   ]
  },
  {
   "cell_type": "code",
   "execution_count": null,
   "id": "dfe67f27-b3d7-4c4e-9738-c04a3a67c4be",
   "metadata": {},
   "outputs": [],
   "source": []
  },
  {
   "cell_type": "markdown",
   "id": "df32c9ef-e635-413a-b143-d5065f78a276",
   "metadata": {},
   "source": [
    "# Import 3 datasets"
   ]
  },
  {
   "cell_type": "code",
   "execution_count": 6,
   "id": "10615e09-1c40-4afb-a461-0990f6dc0c4d",
   "metadata": {},
   "outputs": [],
   "source": [
    "df_netflix = pd.read_csv('titles-3.csv')\n",
    "df_amazon = pd.read_csv('titles-2.csv')\n",
    "df_hbo = pd.read_csv('titles.csv')"
   ]
  },
  {
   "cell_type": "code",
   "execution_count": 8,
   "id": "f46be1eb-fc0b-484b-b320-2d95ae62ead7",
   "metadata": {},
   "outputs": [
    {
     "data": {
      "text/plain": [
       "(9871, 15)"
      ]
     },
     "execution_count": 8,
     "metadata": {},
     "output_type": "execute_result"
    }
   ],
   "source": [
    "df_amazon.shape"
   ]
  },
  {
   "cell_type": "code",
   "execution_count": 10,
   "id": "90f07cb6-1cf1-43f8-948e-dc1c4c686460",
   "metadata": {},
   "outputs": [
    {
     "data": {
      "text/plain": [
       "(3294, 15)"
      ]
     },
     "execution_count": 10,
     "metadata": {},
     "output_type": "execute_result"
    }
   ],
   "source": [
    "df_hbo.shape"
   ]
  },
  {
   "cell_type": "code",
   "execution_count": 12,
   "id": "4d6696ec-6862-460e-b732-f1c600ab0234",
   "metadata": {},
   "outputs": [
    {
     "data": {
      "text/plain": [
       "(5850, 15)"
      ]
     },
     "execution_count": 12,
     "metadata": {},
     "output_type": "execute_result"
    }
   ],
   "source": [
    "df_netflix.shape"
   ]
  },
  {
   "cell_type": "code",
   "execution_count": null,
   "id": "e8201f37-8f57-480a-81d1-a1b951882522",
   "metadata": {},
   "outputs": [],
   "source": []
  },
  {
   "cell_type": "markdown",
   "id": "615a0aa1-8118-468c-b342-39e36587db78",
   "metadata": {},
   "source": [
    "# Concate these 3 datasets"
   ]
  },
  {
   "cell_type": "code",
   "execution_count": 16,
   "id": "3a8c8ba2-e621-47c0-beff-ab2e21e19739",
   "metadata": {},
   "outputs": [],
   "source": [
    "df = pd.concat([df_amazon, df_hbo, df_netflix], axis=0)"
   ]
  },
  {
   "cell_type": "code",
   "execution_count": 18,
   "id": "cbd8783b-dfce-4a2f-b9f0-56ff90a51dcb",
   "metadata": {},
   "outputs": [
    {
     "data": {
      "text/plain": [
       "(19015, 15)"
      ]
     },
     "execution_count": 18,
     "metadata": {},
     "output_type": "execute_result"
    }
   ],
   "source": [
    "df.shape"
   ]
  },
  {
   "cell_type": "code",
   "execution_count": null,
   "id": "6fc84b27-bb3f-4e03-883c-ad2c2cf385e1",
   "metadata": {},
   "outputs": [],
   "source": []
  },
  {
   "cell_type": "code",
   "execution_count": null,
   "id": "c116a030-7a91-4f9a-9533-6d7311104431",
   "metadata": {},
   "outputs": [],
   "source": []
  },
  {
   "cell_type": "markdown",
   "id": "4e639e02-2e9a-44d9-9f7a-e9ebc4e2018e",
   "metadata": {},
   "source": [
    "# Data cleaning and Preprocessing"
   ]
  },
  {
   "cell_type": "code",
   "execution_count": 23,
   "id": "1c809e34-89ab-4e10-a63b-f5ff307d0288",
   "metadata": {},
   "outputs": [
    {
     "data": {
      "text/plain": [
       "0"
      ]
     },
     "execution_count": 23,
     "metadata": {},
     "output_type": "execute_result"
    }
   ],
   "source": [
    "# Drop the duplicate records\n",
    "df_movies = df.drop_duplicates()\n",
    "df_movies.duplicated().sum()"
   ]
  },
  {
   "cell_type": "markdown",
   "id": "7ccb5709-e716-4f80-962f-2de64de6df94",
   "metadata": {},
   "source": [
    "#### The re no duplicate values left"
   ]
  },
  {
   "cell_type": "code",
   "execution_count": null,
   "id": "57187d17-e996-497b-aa03-52476cb7d802",
   "metadata": {},
   "outputs": [],
   "source": []
  },
  {
   "cell_type": "code",
   "execution_count": null,
   "id": "88f5bd44-84ac-495a-9cc7-b7db98c7ae00",
   "metadata": {},
   "outputs": [],
   "source": []
  },
  {
   "cell_type": "code",
   "execution_count": 28,
   "id": "6b35d914-f68a-47ca-a1bd-6d893d207076",
   "metadata": {},
   "outputs": [],
   "source": [
    "# Drop unnecessary columns\n",
    "df_movies.drop(['description', 'age_certification'], axis=1, inplace=True)"
   ]
  },
  {
   "cell_type": "code",
   "execution_count": null,
   "id": "d4990ca1-d847-4e77-a905-7793781fccb6",
   "metadata": {},
   "outputs": [],
   "source": []
  },
  {
   "cell_type": "code",
   "execution_count": null,
   "id": "f748699e-603a-4656-b5e6-0487079a543b",
   "metadata": {},
   "outputs": [],
   "source": []
  },
  {
   "cell_type": "code",
   "execution_count": 32,
   "id": "e5f197c5-5273-4b38-83b1-6e87b639eed6",
   "metadata": {},
   "outputs": [
    {
     "data": {
      "text/html": [
       "<div>\n",
       "<style scoped>\n",
       "    .dataframe tbody tr th:only-of-type {\n",
       "        vertical-align: middle;\n",
       "    }\n",
       "\n",
       "    .dataframe tbody tr th {\n",
       "        vertical-align: top;\n",
       "    }\n",
       "\n",
       "    .dataframe thead th {\n",
       "        text-align: right;\n",
       "    }\n",
       "</style>\n",
       "<table border=\"1\" class=\"dataframe\">\n",
       "  <thead>\n",
       "    <tr style=\"text-align: right;\">\n",
       "      <th></th>\n",
       "      <th>id</th>\n",
       "      <th>title</th>\n",
       "      <th>type</th>\n",
       "      <th>release_year</th>\n",
       "      <th>runtime</th>\n",
       "      <th>genres</th>\n",
       "      <th>production_countries</th>\n",
       "      <th>seasons</th>\n",
       "      <th>imdb_id</th>\n",
       "      <th>imdb_score</th>\n",
       "      <th>imdb_votes</th>\n",
       "      <th>tmdb_popularity</th>\n",
       "      <th>tmdb_score</th>\n",
       "    </tr>\n",
       "  </thead>\n",
       "  <tbody>\n",
       "    <tr>\n",
       "      <th>0</th>\n",
       "      <td>ts20945</td>\n",
       "      <td>The Three Stooges</td>\n",
       "      <td>SHOW</td>\n",
       "      <td>1934</td>\n",
       "      <td>19</td>\n",
       "      <td>['comedy', 'family', 'animation', 'action', 'f...</td>\n",
       "      <td>['US']</td>\n",
       "      <td>26.0</td>\n",
       "      <td>tt0850645</td>\n",
       "      <td>8.6</td>\n",
       "      <td>1092.0</td>\n",
       "      <td>15.424</td>\n",
       "      <td>7.6</td>\n",
       "    </tr>\n",
       "    <tr>\n",
       "      <th>1</th>\n",
       "      <td>tm19248</td>\n",
       "      <td>The General</td>\n",
       "      <td>MOVIE</td>\n",
       "      <td>1926</td>\n",
       "      <td>78</td>\n",
       "      <td>['action', 'drama', 'war', 'western', 'comedy'...</td>\n",
       "      <td>['US']</td>\n",
       "      <td>NaN</td>\n",
       "      <td>tt0017925</td>\n",
       "      <td>8.2</td>\n",
       "      <td>89766.0</td>\n",
       "      <td>8.647</td>\n",
       "      <td>8.0</td>\n",
       "    </tr>\n",
       "  </tbody>\n",
       "</table>\n",
       "</div>"
      ],
      "text/plain": [
       "        id              title   type  release_year  runtime  \\\n",
       "0  ts20945  The Three Stooges   SHOW          1934       19   \n",
       "1  tm19248        The General  MOVIE          1926       78   \n",
       "\n",
       "                                              genres production_countries  \\\n",
       "0  ['comedy', 'family', 'animation', 'action', 'f...               ['US']   \n",
       "1  ['action', 'drama', 'war', 'western', 'comedy'...               ['US']   \n",
       "\n",
       "   seasons    imdb_id  imdb_score  imdb_votes  tmdb_popularity  tmdb_score  \n",
       "0     26.0  tt0850645         8.6      1092.0           15.424         7.6  \n",
       "1      NaN  tt0017925         8.2     89766.0            8.647         8.0  "
      ]
     },
     "execution_count": 32,
     "metadata": {},
     "output_type": "execute_result"
    }
   ],
   "source": [
    "df_movies.head(2)"
   ]
  },
  {
   "cell_type": "code",
   "execution_count": null,
   "id": "69438db1-53d2-4150-acd9-b41b7f8d8471",
   "metadata": {},
   "outputs": [],
   "source": []
  },
  {
   "cell_type": "markdown",
   "id": "143a615c-83e1-47c0-a7db-993f04ebab28",
   "metadata": {},
   "source": [
    "# Work with \"production_countries\" column"
   ]
  },
  {
   "cell_type": "code",
   "execution_count": 36,
   "id": "fac1fbac-bbd6-4c85-b188-5ec2013822c6",
   "metadata": {},
   "outputs": [],
   "source": [
    "df_movies['production_countries'] = df_movies['production_countries'].str.replace(r\"\\[|\\]|\\'\", '', regex=True)"
   ]
  },
  {
   "cell_type": "code",
   "execution_count": 38,
   "id": "d7e9961b-2387-4b90-bf99-4ea299898798",
   "metadata": {},
   "outputs": [],
   "source": [
    "df_movies['lead_production_countries'] = df_movies['production_countries'].str.split(',').str[0]"
   ]
  },
  {
   "cell_type": "code",
   "execution_count": 40,
   "id": "66e16969-ea04-4967-9cad-e934366cfd42",
   "metadata": {},
   "outputs": [],
   "source": [
    "df_movies['production_countries_lenth'] = df_movies['production_countries'].str.split(',').str.len()"
   ]
  },
  {
   "cell_type": "code",
   "execution_count": 42,
   "id": "28a58fe7-5710-421e-b681-4ae920c360c6",
   "metadata": {},
   "outputs": [],
   "source": [
    "df_movies['lead_production_countries'] = df_movies['lead_production_countries'].replace('', np.nan)"
   ]
  },
  {
   "cell_type": "code",
   "execution_count": null,
   "id": "57ca1573-4e5e-40bf-8ebf-204620080108",
   "metadata": {},
   "outputs": [],
   "source": []
  },
  {
   "cell_type": "code",
   "execution_count": null,
   "id": "659fa27a-5d81-4a4e-ba78-a46cb5bde342",
   "metadata": {},
   "outputs": [],
   "source": []
  },
  {
   "cell_type": "markdown",
   "id": "ec3f141d-dc14-4d12-8c0f-28bde1044a77",
   "metadata": {},
   "source": [
    "# Work with 'genre' column"
   ]
  },
  {
   "cell_type": "code",
   "execution_count": 47,
   "id": "d03d991b-33ad-4f27-853a-b7bc46117ca0",
   "metadata": {},
   "outputs": [],
   "source": [
    "df_movies['genres'] = df_movies['genres'].str.replace(r\"\\[|\\]|\\'\", '', regex=True)"
   ]
  },
  {
   "cell_type": "code",
   "execution_count": 49,
   "id": "0e013e85-4bd6-466e-a9f0-9a7793f32d27",
   "metadata": {},
   "outputs": [],
   "source": [
    "df_movies['main_genres'] = df_movies['genres'].str.split(',').str[0]"
   ]
  },
  {
   "cell_type": "code",
   "execution_count": 51,
   "id": "89de4718-b2d7-4441-80e3-359a1173c22d",
   "metadata": {},
   "outputs": [],
   "source": [
    "df_movies['main_genres'] = df_movies['main_genres'].replace('', np.nan)"
   ]
  },
  {
   "cell_type": "code",
   "execution_count": null,
   "id": "45971121-dcda-495b-a778-f89f555ea7c6",
   "metadata": {},
   "outputs": [],
   "source": []
  },
  {
   "cell_type": "code",
   "execution_count": null,
   "id": "32c836f0-2dc0-4a86-8dc1-7de1efa6e2ac",
   "metadata": {},
   "outputs": [],
   "source": []
  },
  {
   "cell_type": "code",
   "execution_count": 55,
   "id": "3a366ae2-f5a9-4443-882b-70e2645ee7a0",
   "metadata": {},
   "outputs": [],
   "source": [
    "# Drop 'genres', 'production_countries' columns\n",
    "\n",
    "df_movies.drop(['genres', 'production_countries'], axis=1, inplace=True)"
   ]
  },
  {
   "cell_type": "code",
   "execution_count": null,
   "id": "23461ed4-94c6-4d44-8230-c523a5e3411f",
   "metadata": {},
   "outputs": [],
   "source": []
  },
  {
   "cell_type": "code",
   "execution_count": null,
   "id": "190ac461-9430-4a93-a506-ef7edadc2286",
   "metadata": {},
   "outputs": [],
   "source": []
  },
  {
   "cell_type": "markdown",
   "id": "a1f2dfc5-5284-4268-a7c1-db1fc7ceba56",
   "metadata": {},
   "source": [
    "# Drop missing values"
   ]
  },
  {
   "cell_type": "code",
   "execution_count": 60,
   "id": "50d4c838-275e-4f00-b40e-7099435c1f02",
   "metadata": {},
   "outputs": [
    {
     "data": {
      "text/plain": [
       "(18980, 14)"
      ]
     },
     "execution_count": 60,
     "metadata": {},
     "output_type": "execute_result"
    }
   ],
   "source": [
    "df_movies.shape"
   ]
  },
  {
   "cell_type": "code",
   "execution_count": 62,
   "id": "7e2eec2e-999e-4e4d-8167-1bc1e06885c5",
   "metadata": {},
   "outputs": [
    {
     "data": {
      "text/plain": [
       "id                                0\n",
       "title                             1\n",
       "type                              0\n",
       "release_year                      0\n",
       "runtime                           0\n",
       "seasons                       14772\n",
       "imdb_id                        1394\n",
       "imdb_score                     1873\n",
       "imdb_votes                     1910\n",
       "tmdb_popularity                 670\n",
       "tmdb_score                     2656\n",
       "lead_production_countries      1160\n",
       "production_countries_lenth        0\n",
       "main_genres                     321\n",
       "dtype: int64"
      ]
     },
     "execution_count": 62,
     "metadata": {},
     "output_type": "execute_result"
    }
   ],
   "source": [
    "df_movies.isnull().sum()"
   ]
  },
  {
   "cell_type": "code",
   "execution_count": 64,
   "id": "d651d772-6943-4c28-b959-60b9d8c47645",
   "metadata": {},
   "outputs": [],
   "source": [
    "# Drop rows with any missing values to clean the dataset\n",
    "df_movies.dropna(inplace=True)\n",
    "\n",
    "# set the 'title' column as the DataFrame index\n",
    "df_movies.set_index('title', inplace=True)\n",
    "\n",
    "# Drop 'id' and 'imdb_id' columns as they are not needed for further analysis\n",
    "df_movies.drop(['id', 'imdb_id'], axis=1, inplace=True)"
   ]
  },
  {
   "cell_type": "code",
   "execution_count": null,
   "id": "bc568394-9ce9-4877-9102-00b55496f811",
   "metadata": {},
   "outputs": [],
   "source": []
  },
  {
   "cell_type": "code",
   "execution_count": null,
   "id": "819997fb-5145-43ab-982c-7b40193d81ae",
   "metadata": {},
   "outputs": [],
   "source": []
  },
  {
   "cell_type": "code",
   "execution_count": 68,
   "id": "3d7b11ae-ceb2-4657-bebf-8bf6a174a0b8",
   "metadata": {},
   "outputs": [
    {
     "data": {
      "text/html": [
       "<div>\n",
       "<style scoped>\n",
       "    .dataframe tbody tr th:only-of-type {\n",
       "        vertical-align: middle;\n",
       "    }\n",
       "\n",
       "    .dataframe tbody tr th {\n",
       "        vertical-align: top;\n",
       "    }\n",
       "\n",
       "    .dataframe thead th {\n",
       "        text-align: right;\n",
       "    }\n",
       "</style>\n",
       "<table border=\"1\" class=\"dataframe\">\n",
       "  <thead>\n",
       "    <tr style=\"text-align: right;\">\n",
       "      <th></th>\n",
       "      <th>type</th>\n",
       "      <th>release_year</th>\n",
       "      <th>runtime</th>\n",
       "      <th>seasons</th>\n",
       "      <th>imdb_score</th>\n",
       "      <th>imdb_votes</th>\n",
       "      <th>tmdb_popularity</th>\n",
       "      <th>tmdb_score</th>\n",
       "      <th>lead_production_countries</th>\n",
       "      <th>production_countries_lenth</th>\n",
       "      <th>main_genres</th>\n",
       "    </tr>\n",
       "    <tr>\n",
       "      <th>title</th>\n",
       "      <th></th>\n",
       "      <th></th>\n",
       "      <th></th>\n",
       "      <th></th>\n",
       "      <th></th>\n",
       "      <th></th>\n",
       "      <th></th>\n",
       "      <th></th>\n",
       "      <th></th>\n",
       "      <th></th>\n",
       "      <th></th>\n",
       "    </tr>\n",
       "  </thead>\n",
       "  <tbody>\n",
       "    <tr>\n",
       "      <th>The Three Stooges</th>\n",
       "      <td>SHOW</td>\n",
       "      <td>1934</td>\n",
       "      <td>19</td>\n",
       "      <td>26.0</td>\n",
       "      <td>8.6</td>\n",
       "      <td>1092.0</td>\n",
       "      <td>15.424</td>\n",
       "      <td>7.6</td>\n",
       "      <td>US</td>\n",
       "      <td>1</td>\n",
       "      <td>comedy</td>\n",
       "    </tr>\n",
       "    <tr>\n",
       "      <th>What's My Line?</th>\n",
       "      <td>SHOW</td>\n",
       "      <td>1950</td>\n",
       "      <td>30</td>\n",
       "      <td>18.0</td>\n",
       "      <td>8.6</td>\n",
       "      <td>1563.0</td>\n",
       "      <td>87.392</td>\n",
       "      <td>6.9</td>\n",
       "      <td>US</td>\n",
       "      <td>1</td>\n",
       "      <td>reality</td>\n",
       "    </tr>\n",
       "  </tbody>\n",
       "</table>\n",
       "</div>"
      ],
      "text/plain": [
       "                   type  release_year  runtime  seasons  imdb_score  \\\n",
       "title                                                                 \n",
       "The Three Stooges  SHOW          1934       19     26.0         8.6   \n",
       "What's My Line?    SHOW          1950       30     18.0         8.6   \n",
       "\n",
       "                   imdb_votes  tmdb_popularity  tmdb_score  \\\n",
       "title                                                        \n",
       "The Three Stooges      1092.0           15.424         7.6   \n",
       "What's My Line?        1563.0           87.392         6.9   \n",
       "\n",
       "                  lead_production_countries  production_countries_lenth  \\\n",
       "title                                                                     \n",
       "The Three Stooges                        US                           1   \n",
       "What's My Line?                          US                           1   \n",
       "\n",
       "                  main_genres  \n",
       "title                          \n",
       "The Three Stooges      comedy  \n",
       "What's My Line?       reality  "
      ]
     },
     "execution_count": 68,
     "metadata": {},
     "output_type": "execute_result"
    }
   ],
   "source": [
    "df_movies.head(2)"
   ]
  },
  {
   "cell_type": "code",
   "execution_count": null,
   "id": "60597f26-e0d1-4fac-93b1-659541add7da",
   "metadata": {},
   "outputs": [],
   "source": []
  },
  {
   "cell_type": "code",
   "execution_count": null,
   "id": "d2173d9d-7ce7-4081-a893-44c703c48b7c",
   "metadata": {},
   "outputs": [],
   "source": []
  },
  {
   "cell_type": "markdown",
   "id": "e9070385-cd10-4ee2-b83d-b26856a93541",
   "metadata": {},
   "source": [
    "# Encoding categorical features"
   ]
  },
  {
   "cell_type": "code",
   "execution_count": 73,
   "id": "7dfbe745-9237-4ddc-8ab9-185cf0f7f247",
   "metadata": {},
   "outputs": [],
   "source": [
    "# Create dummy variables for categorical columns\n",
    "dummies = pd.get_dummies(df_movies[['type', 'lead_production_countries', 'main_genres']], drop_first=True).astype('int')\n",
    "\n",
    "# Concatenate the dummy variables with the original DataFrame\n",
    "df_movies_dum = pd.concat([df_movies, dummies], axis=1)\n",
    "\n",
    "# Drop the orifinal categorical columns after creating dummy variables\n",
    "df_movies_dum.drop(['type', 'lead_production_countries', 'main_genres'], axis=1, inplace=True)"
   ]
  },
  {
   "cell_type": "code",
   "execution_count": null,
   "id": "8bc1ddc0-1842-4df8-8f00-3685f6ebc519",
   "metadata": {},
   "outputs": [],
   "source": []
  },
  {
   "cell_type": "code",
   "execution_count": null,
   "id": "41db5aa0-9fd5-4646-9e15-5f9da23e4feb",
   "metadata": {},
   "outputs": [],
   "source": []
  },
  {
   "cell_type": "markdown",
   "id": "354f6f44-bf85-4194-89b3-356b87da7aff",
   "metadata": {},
   "source": [
    "# Scaling (MinMaxScaler)"
   ]
  },
  {
   "cell_type": "code",
   "execution_count": 78,
   "id": "f2ea6efa-f727-4f44-aa26-74e050f0b7ab",
   "metadata": {},
   "outputs": [],
   "source": [
    "from sklearn.preprocessing import MinMaxScaler\n",
    "\n",
    "scaler = MinMaxScaler()\n",
    "df_scaled = scaler.fit_transform(df_movies_dum)\n",
    "df_scaled = pd.DataFrame(df_scaled, columns=df_movies_dum.columns)"
   ]
  },
  {
   "cell_type": "code",
   "execution_count": 79,
   "id": "41f42754-b91e-424c-81b2-c6c8f349e872",
   "metadata": {},
   "outputs": [
    {
     "data": {
      "text/html": [
       "<div>\n",
       "<style scoped>\n",
       "    .dataframe tbody tr th:only-of-type {\n",
       "        vertical-align: middle;\n",
       "    }\n",
       "\n",
       "    .dataframe tbody tr th {\n",
       "        vertical-align: top;\n",
       "    }\n",
       "\n",
       "    .dataframe thead th {\n",
       "        text-align: right;\n",
       "    }\n",
       "</style>\n",
       "<table border=\"1\" class=\"dataframe\">\n",
       "  <thead>\n",
       "    <tr style=\"text-align: right;\">\n",
       "      <th></th>\n",
       "      <th>release_year</th>\n",
       "      <th>runtime</th>\n",
       "      <th>seasons</th>\n",
       "      <th>imdb_score</th>\n",
       "      <th>imdb_votes</th>\n",
       "      <th>tmdb_popularity</th>\n",
       "      <th>tmdb_score</th>\n",
       "      <th>production_countries_lenth</th>\n",
       "      <th>lead_production_countries_AR</th>\n",
       "      <th>lead_production_countries_AT</th>\n",
       "      <th>...</th>\n",
       "      <th>main_genres_history</th>\n",
       "      <th>main_genres_horror</th>\n",
       "      <th>main_genres_music</th>\n",
       "      <th>main_genres_reality</th>\n",
       "      <th>main_genres_romance</th>\n",
       "      <th>main_genres_scifi</th>\n",
       "      <th>main_genres_sport</th>\n",
       "      <th>main_genres_thriller</th>\n",
       "      <th>main_genres_war</th>\n",
       "      <th>main_genres_western</th>\n",
       "    </tr>\n",
       "  </thead>\n",
       "  <tbody>\n",
       "    <tr>\n",
       "      <th>0</th>\n",
       "      <td>0.000000</td>\n",
       "      <td>0.106742</td>\n",
       "      <td>0.490196</td>\n",
       "      <td>0.8875</td>\n",
       "      <td>0.000548</td>\n",
       "      <td>0.006928</td>\n",
       "      <td>0.739130</td>\n",
       "      <td>0.0</td>\n",
       "      <td>0.0</td>\n",
       "      <td>0.0</td>\n",
       "      <td>...</td>\n",
       "      <td>0.0</td>\n",
       "      <td>0.0</td>\n",
       "      <td>0.0</td>\n",
       "      <td>0.0</td>\n",
       "      <td>0.0</td>\n",
       "      <td>0.0</td>\n",
       "      <td>0.0</td>\n",
       "      <td>0.0</td>\n",
       "      <td>0.0</td>\n",
       "      <td>0.0</td>\n",
       "    </tr>\n",
       "    <tr>\n",
       "      <th>1</th>\n",
       "      <td>0.181818</td>\n",
       "      <td>0.168539</td>\n",
       "      <td>0.333333</td>\n",
       "      <td>0.8875</td>\n",
       "      <td>0.000785</td>\n",
       "      <td>0.039256</td>\n",
       "      <td>0.663043</td>\n",
       "      <td>0.0</td>\n",
       "      <td>0.0</td>\n",
       "      <td>0.0</td>\n",
       "      <td>...</td>\n",
       "      <td>0.0</td>\n",
       "      <td>0.0</td>\n",
       "      <td>0.0</td>\n",
       "      <td>1.0</td>\n",
       "      <td>0.0</td>\n",
       "      <td>0.0</td>\n",
       "      <td>0.0</td>\n",
       "      <td>0.0</td>\n",
       "      <td>0.0</td>\n",
       "      <td>0.0</td>\n",
       "    </tr>\n",
       "  </tbody>\n",
       "</table>\n",
       "<p>2 rows × 81 columns</p>\n",
       "</div>"
      ],
      "text/plain": [
       "   release_year   runtime   seasons  imdb_score  imdb_votes  tmdb_popularity  \\\n",
       "0      0.000000  0.106742  0.490196      0.8875    0.000548         0.006928   \n",
       "1      0.181818  0.168539  0.333333      0.8875    0.000785         0.039256   \n",
       "\n",
       "   tmdb_score  production_countries_lenth  lead_production_countries_AR  \\\n",
       "0    0.739130                         0.0                           0.0   \n",
       "1    0.663043                         0.0                           0.0   \n",
       "\n",
       "   lead_production_countries_AT  ...  main_genres_history  main_genres_horror  \\\n",
       "0                           0.0  ...                  0.0                 0.0   \n",
       "1                           0.0  ...                  0.0                 0.0   \n",
       "\n",
       "   main_genres_music  main_genres_reality  main_genres_romance  \\\n",
       "0                0.0                  0.0                  0.0   \n",
       "1                0.0                  1.0                  0.0   \n",
       "\n",
       "   main_genres_scifi  main_genres_sport  main_genres_thriller  \\\n",
       "0                0.0                0.0                   0.0   \n",
       "1                0.0                0.0                   0.0   \n",
       "\n",
       "   main_genres_war  main_genres_western  \n",
       "0              0.0                  0.0  \n",
       "1              0.0                  0.0  \n",
       "\n",
       "[2 rows x 81 columns]"
      ]
     },
     "execution_count": 79,
     "metadata": {},
     "output_type": "execute_result"
    }
   ],
   "source": [
    "df_scaled.head(2)"
   ]
  },
  {
   "cell_type": "code",
   "execution_count": null,
   "id": "fd8f987a-db54-48c4-a74f-6f5e08ea55b2",
   "metadata": {},
   "outputs": [],
   "source": []
  },
  {
   "cell_type": "code",
   "execution_count": null,
   "id": "54429f68-9708-4b7e-a9af-cb287c04829c",
   "metadata": {},
   "outputs": [],
   "source": []
  },
  {
   "cell_type": "markdown",
   "id": "7fca2c16-3c1a-4ef2-8884-067a45e60b54",
   "metadata": {},
   "source": [
    "# DBSCAN\n",
    "### Run a loop to get best epsilon value and minpnts"
   ]
  },
  {
   "cell_type": "code",
   "execution_count": 87,
   "id": "ddd3c349-9231-4c72-9c99-92e08af8de1f",
   "metadata": {},
   "outputs": [],
   "source": [
    "from sklearn.cluster import DBSCAN\n",
    "from sklearn.metrics import silhouette_score"
   ]
  },
  {
   "cell_type": "code",
   "execution_count": 91,
   "id": "61505dd9-d593-45a2-ba16-ee8bc461c5a7",
   "metadata": {},
   "outputs": [
    {
     "name": "stdout",
     "output_type": "stream",
     "text": [
      "eps: 0.2\n",
      "min_sample: 5\n",
      "Count Cluster: 75\n",
      "Average silhouette score: 0.4378840737098286\n",
      "***************\n",
      "eps: 0.2\n",
      "min_sample: 10\n",
      "Count Cluster: 37\n",
      "Average silhouette score: 0.36601440046646755\n",
      "***************\n",
      "eps: 0.2\n",
      "min_sample: 30\n",
      "Count Cluster: 17\n",
      "Average silhouette score: 0.23106054247198202\n",
      "***************\n",
      "eps: 0.5\n",
      "min_sample: 5\n",
      "Count Cluster: 91\n",
      "Average silhouette score: 0.6019560501740349\n",
      "***************\n",
      "eps: 0.5\n",
      "min_sample: 10\n",
      "Count Cluster: 56\n",
      "Average silhouette score: 0.5303679432698051\n",
      "***************\n",
      "eps: 0.5\n",
      "min_sample: 30\n",
      "Count Cluster: 21\n",
      "Average silhouette score: 0.36228604161700484\n",
      "***************\n",
      "eps: 1\n",
      "min_sample: 5\n",
      "Count Cluster: 93\n",
      "Average silhouette score: 0.6091664186394288\n",
      "***************\n",
      "eps: 1\n",
      "min_sample: 10\n",
      "Count Cluster: 57\n",
      "Average silhouette score: 0.5362809971937993\n",
      "***************\n",
      "eps: 1\n",
      "min_sample: 30\n",
      "Count Cluster: 22\n",
      "Average silhouette score: 0.37121300388037504\n",
      "***************\n"
     ]
    }
   ],
   "source": [
    "# Define the range of epsilon and minimum samples (min_samples) parameter for DBSCAN\n",
    "eps_array = [0.2, 0.5, 1]\n",
    "min_samples_array = [5, 10, 30]\n",
    "\n",
    "for eps in eps_array: \n",
    "    for min_sample in min_samples_array:\n",
    "        cluster = DBSCAN(eps=eps, min_samples=min_sample)\n",
    "        cluster.fit(df_scaled)\n",
    "        cluster_label = cluster.labels_\n",
    "\n",
    "        if len(set(cluster_label)) == 1:\n",
    "            continue\n",
    "        silhouette_avg = silhouette_score(df_scaled, cluster_label)\n",
    "\n",
    "        print(f\"eps: {eps}\\nmin_sample: {min_sample}\\nCount Cluster: {len(set(cluster_label))}\\nAverage silhouette score: {silhouette_avg}\")\n",
    "\n",
    "        print('*'*15)"
   ]
  },
  {
   "cell_type": "code",
   "execution_count": null,
   "id": "c3accfc8-0e83-4fad-bdec-92f26ef1253e",
   "metadata": {},
   "outputs": [],
   "source": []
  },
  {
   "cell_type": "code",
   "execution_count": null,
   "id": "ec71e348-3031-46b1-85bb-6baffecc71e8",
   "metadata": {},
   "outputs": [],
   "source": []
  },
  {
   "cell_type": "markdown",
   "id": "142ed391-a472-4083-9b87-53e9d0ca124b",
   "metadata": {},
   "source": [
    "# Train the model \n",
    "# DBSCAN with eps=1 and min_samples=5 as hyperparameter tuning"
   ]
  },
  {
   "cell_type": "code",
   "execution_count": 97,
   "id": "3244c89f-e000-472d-a840-4010997191c3",
   "metadata": {},
   "outputs": [
    {
     "data": {
      "text/html": [
       "<style>#sk-container-id-1 {color: black;background-color: white;}#sk-container-id-1 pre{padding: 0;}#sk-container-id-1 div.sk-toggleable {background-color: white;}#sk-container-id-1 label.sk-toggleable__label {cursor: pointer;display: block;width: 100%;margin-bottom: 0;padding: 0.3em;box-sizing: border-box;text-align: center;}#sk-container-id-1 label.sk-toggleable__label-arrow:before {content: \"▸\";float: left;margin-right: 0.25em;color: #696969;}#sk-container-id-1 label.sk-toggleable__label-arrow:hover:before {color: black;}#sk-container-id-1 div.sk-estimator:hover label.sk-toggleable__label-arrow:before {color: black;}#sk-container-id-1 div.sk-toggleable__content {max-height: 0;max-width: 0;overflow: hidden;text-align: left;background-color: #f0f8ff;}#sk-container-id-1 div.sk-toggleable__content pre {margin: 0.2em;color: black;border-radius: 0.25em;background-color: #f0f8ff;}#sk-container-id-1 input.sk-toggleable__control:checked~div.sk-toggleable__content {max-height: 200px;max-width: 100%;overflow: auto;}#sk-container-id-1 input.sk-toggleable__control:checked~label.sk-toggleable__label-arrow:before {content: \"▾\";}#sk-container-id-1 div.sk-estimator input.sk-toggleable__control:checked~label.sk-toggleable__label {background-color: #d4ebff;}#sk-container-id-1 div.sk-label input.sk-toggleable__control:checked~label.sk-toggleable__label {background-color: #d4ebff;}#sk-container-id-1 input.sk-hidden--visually {border: 0;clip: rect(1px 1px 1px 1px);clip: rect(1px, 1px, 1px, 1px);height: 1px;margin: -1px;overflow: hidden;padding: 0;position: absolute;width: 1px;}#sk-container-id-1 div.sk-estimator {font-family: monospace;background-color: #f0f8ff;border: 1px dotted black;border-radius: 0.25em;box-sizing: border-box;margin-bottom: 0.5em;}#sk-container-id-1 div.sk-estimator:hover {background-color: #d4ebff;}#sk-container-id-1 div.sk-parallel-item::after {content: \"\";width: 100%;border-bottom: 1px solid gray;flex-grow: 1;}#sk-container-id-1 div.sk-label:hover label.sk-toggleable__label {background-color: #d4ebff;}#sk-container-id-1 div.sk-serial::before {content: \"\";position: absolute;border-left: 1px solid gray;box-sizing: border-box;top: 0;bottom: 0;left: 50%;z-index: 0;}#sk-container-id-1 div.sk-serial {display: flex;flex-direction: column;align-items: center;background-color: white;padding-right: 0.2em;padding-left: 0.2em;position: relative;}#sk-container-id-1 div.sk-item {position: relative;z-index: 1;}#sk-container-id-1 div.sk-parallel {display: flex;align-items: stretch;justify-content: center;background-color: white;position: relative;}#sk-container-id-1 div.sk-item::before, #sk-container-id-1 div.sk-parallel-item::before {content: \"\";position: absolute;border-left: 1px solid gray;box-sizing: border-box;top: 0;bottom: 0;left: 50%;z-index: -1;}#sk-container-id-1 div.sk-parallel-item {display: flex;flex-direction: column;z-index: 1;position: relative;background-color: white;}#sk-container-id-1 div.sk-parallel-item:first-child::after {align-self: flex-end;width: 50%;}#sk-container-id-1 div.sk-parallel-item:last-child::after {align-self: flex-start;width: 50%;}#sk-container-id-1 div.sk-parallel-item:only-child::after {width: 0;}#sk-container-id-1 div.sk-dashed-wrapped {border: 1px dashed gray;margin: 0 0.4em 0.5em 0.4em;box-sizing: border-box;padding-bottom: 0.4em;background-color: white;}#sk-container-id-1 div.sk-label label {font-family: monospace;font-weight: bold;display: inline-block;line-height: 1.2em;}#sk-container-id-1 div.sk-label-container {text-align: center;}#sk-container-id-1 div.sk-container {/* jupyter's `normalize.less` sets `[hidden] { display: none; }` but bootstrap.min.css set `[hidden] { display: none !important; }` so we also need the `!important` here to be able to override the default hidden behavior on the sphinx rendered scikit-learn.org. See: https://github.com/scikit-learn/scikit-learn/issues/21755 */display: inline-block !important;position: relative;}#sk-container-id-1 div.sk-text-repr-fallback {display: none;}</style><div id=\"sk-container-id-1\" class=\"sk-top-container\"><div class=\"sk-text-repr-fallback\"><pre>DBSCAN(eps=1)</pre><b>In a Jupyter environment, please rerun this cell to show the HTML representation or trust the notebook. <br />On GitHub, the HTML representation is unable to render, please try loading this page with nbviewer.org.</b></div><div class=\"sk-container\" hidden><div class=\"sk-item\"><div class=\"sk-estimator sk-toggleable\"><input class=\"sk-toggleable__control sk-hidden--visually\" id=\"sk-estimator-id-1\" type=\"checkbox\" checked><label for=\"sk-estimator-id-1\" class=\"sk-toggleable__label sk-toggleable__label-arrow\">DBSCAN</label><div class=\"sk-toggleable__content\"><pre>DBSCAN(eps=1)</pre></div></div></div></div></div>"
      ],
      "text/plain": [
       "DBSCAN(eps=1)"
      ]
     },
     "execution_count": 97,
     "metadata": {},
     "output_type": "execute_result"
    }
   ],
   "source": [
    "dbscan_model = DBSCAN(eps=1, min_samples=5)\n",
    "dbscan_model.fit(df_scaled)"
   ]
  },
  {
   "cell_type": "code",
   "execution_count": null,
   "id": "6583fd78-d302-41ec-92c0-4d19282584dc",
   "metadata": {},
   "outputs": [],
   "source": []
  },
  {
   "cell_type": "code",
   "execution_count": null,
   "id": "2f8a6797-f880-452d-b14e-64b8cd5c3ff3",
   "metadata": {},
   "outputs": [],
   "source": []
  },
  {
   "cell_type": "markdown",
   "id": "3bf07294-978d-4373-b624-d3861bb86ac6",
   "metadata": {},
   "source": [
    "# Save the clusters for recommendations"
   ]
  },
  {
   "cell_type": "code",
   "execution_count": 106,
   "id": "0547d760-5ac0-4077-b05f-243e02103258",
   "metadata": {},
   "outputs": [],
   "source": [
    "df_movies['dbscan_clusters'] = dbscan_model.labels_"
   ]
  },
  {
   "cell_type": "code",
   "execution_count": null,
   "id": "5b0ae3ea-275c-46fe-8905-0edd670a058d",
   "metadata": {},
   "outputs": [],
   "source": []
  },
  {
   "cell_type": "code",
   "execution_count": null,
   "id": "89f0e42e-1eb3-4ef6-9fd6-29c25d92848e",
   "metadata": {},
   "outputs": [],
   "source": []
  },
  {
   "cell_type": "code",
   "execution_count": 112,
   "id": "c915bb3e-01f6-46b2-8de3-df7cd85e927c",
   "metadata": {},
   "outputs": [
    {
     "data": {
      "text/html": [
       "<div>\n",
       "<style scoped>\n",
       "    .dataframe tbody tr th:only-of-type {\n",
       "        vertical-align: middle;\n",
       "    }\n",
       "\n",
       "    .dataframe tbody tr th {\n",
       "        vertical-align: top;\n",
       "    }\n",
       "\n",
       "    .dataframe thead th {\n",
       "        text-align: right;\n",
       "    }\n",
       "</style>\n",
       "<table border=\"1\" class=\"dataframe\">\n",
       "  <thead>\n",
       "    <tr style=\"text-align: right;\">\n",
       "      <th></th>\n",
       "      <th>type</th>\n",
       "      <th>release_year</th>\n",
       "      <th>runtime</th>\n",
       "      <th>seasons</th>\n",
       "      <th>imdb_score</th>\n",
       "      <th>imdb_votes</th>\n",
       "      <th>tmdb_popularity</th>\n",
       "      <th>tmdb_score</th>\n",
       "      <th>lead_production_countries</th>\n",
       "      <th>production_countries_lenth</th>\n",
       "      <th>main_genres</th>\n",
       "      <th>dbscan_clusters</th>\n",
       "    </tr>\n",
       "    <tr>\n",
       "      <th>title</th>\n",
       "      <th></th>\n",
       "      <th></th>\n",
       "      <th></th>\n",
       "      <th></th>\n",
       "      <th></th>\n",
       "      <th></th>\n",
       "      <th></th>\n",
       "      <th></th>\n",
       "      <th></th>\n",
       "      <th></th>\n",
       "      <th></th>\n",
       "      <th></th>\n",
       "    </tr>\n",
       "  </thead>\n",
       "  <tbody>\n",
       "    <tr>\n",
       "      <th>The Three Stooges</th>\n",
       "      <td>SHOW</td>\n",
       "      <td>1934</td>\n",
       "      <td>19</td>\n",
       "      <td>26.0</td>\n",
       "      <td>8.6</td>\n",
       "      <td>1092.0</td>\n",
       "      <td>15.424</td>\n",
       "      <td>7.6</td>\n",
       "      <td>US</td>\n",
       "      <td>1</td>\n",
       "      <td>comedy</td>\n",
       "      <td>0</td>\n",
       "    </tr>\n",
       "    <tr>\n",
       "      <th>What's My Line?</th>\n",
       "      <td>SHOW</td>\n",
       "      <td>1950</td>\n",
       "      <td>30</td>\n",
       "      <td>18.0</td>\n",
       "      <td>8.6</td>\n",
       "      <td>1563.0</td>\n",
       "      <td>87.392</td>\n",
       "      <td>6.9</td>\n",
       "      <td>US</td>\n",
       "      <td>1</td>\n",
       "      <td>reality</td>\n",
       "      <td>1</td>\n",
       "    </tr>\n",
       "    <tr>\n",
       "      <th>I Love Lucy</th>\n",
       "      <td>SHOW</td>\n",
       "      <td>1951</td>\n",
       "      <td>30</td>\n",
       "      <td>9.0</td>\n",
       "      <td>8.5</td>\n",
       "      <td>25944.0</td>\n",
       "      <td>17.088</td>\n",
       "      <td>8.1</td>\n",
       "      <td>US</td>\n",
       "      <td>1</td>\n",
       "      <td>comedy</td>\n",
       "      <td>0</td>\n",
       "    </tr>\n",
       "    <tr>\n",
       "      <th>Mister Rogers' Neighborhood</th>\n",
       "      <td>SHOW</td>\n",
       "      <td>1968</td>\n",
       "      <td>29</td>\n",
       "      <td>31.0</td>\n",
       "      <td>8.7</td>\n",
       "      <td>8675.0</td>\n",
       "      <td>8.747</td>\n",
       "      <td>4.7</td>\n",
       "      <td>US</td>\n",
       "      <td>1</td>\n",
       "      <td>fantasy</td>\n",
       "      <td>2</td>\n",
       "    </tr>\n",
       "    <tr>\n",
       "      <th>Lupin the Third</th>\n",
       "      <td>SHOW</td>\n",
       "      <td>1971</td>\n",
       "      <td>23</td>\n",
       "      <td>6.0</td>\n",
       "      <td>7.9</td>\n",
       "      <td>2116.0</td>\n",
       "      <td>45.829</td>\n",
       "      <td>8.0</td>\n",
       "      <td>JP</td>\n",
       "      <td>1</td>\n",
       "      <td>scifi</td>\n",
       "      <td>3</td>\n",
       "    </tr>\n",
       "  </tbody>\n",
       "</table>\n",
       "</div>"
      ],
      "text/plain": [
       "                             type  release_year  runtime  seasons  imdb_score  \\\n",
       "title                                                                           \n",
       "The Three Stooges            SHOW          1934       19     26.0         8.6   \n",
       "What's My Line?              SHOW          1950       30     18.0         8.6   \n",
       "I Love Lucy                  SHOW          1951       30      9.0         8.5   \n",
       "Mister Rogers' Neighborhood  SHOW          1968       29     31.0         8.7   \n",
       "Lupin the Third              SHOW          1971       23      6.0         7.9   \n",
       "\n",
       "                             imdb_votes  tmdb_popularity  tmdb_score  \\\n",
       "title                                                                  \n",
       "The Three Stooges                1092.0           15.424         7.6   \n",
       "What's My Line?                  1563.0           87.392         6.9   \n",
       "I Love Lucy                     25944.0           17.088         8.1   \n",
       "Mister Rogers' Neighborhood      8675.0            8.747         4.7   \n",
       "Lupin the Third                  2116.0           45.829         8.0   \n",
       "\n",
       "                            lead_production_countries  \\\n",
       "title                                                   \n",
       "The Three Stooges                                  US   \n",
       "What's My Line?                                    US   \n",
       "I Love Lucy                                        US   \n",
       "Mister Rogers' Neighborhood                        US   \n",
       "Lupin the Third                                    JP   \n",
       "\n",
       "                             production_countries_lenth main_genres  \\\n",
       "title                                                                 \n",
       "The Three Stooges                                     1      comedy   \n",
       "What's My Line?                                       1     reality   \n",
       "I Love Lucy                                           1      comedy   \n",
       "Mister Rogers' Neighborhood                           1     fantasy   \n",
       "Lupin the Third                                       1       scifi   \n",
       "\n",
       "                             dbscan_clusters  \n",
       "title                                         \n",
       "The Three Stooges                          0  \n",
       "What's My Line?                            1  \n",
       "I Love Lucy                                0  \n",
       "Mister Rogers' Neighborhood                2  \n",
       "Lupin the Third                            3  "
      ]
     },
     "execution_count": 112,
     "metadata": {},
     "output_type": "execute_result"
    }
   ],
   "source": [
    "df_movies.head()"
   ]
  },
  {
   "cell_type": "code",
   "execution_count": null,
   "id": "4fb59efb-e641-4fac-b386-1cc93ab30996",
   "metadata": {},
   "outputs": [],
   "source": []
  },
  {
   "cell_type": "code",
   "execution_count": null,
   "id": "f2e2f607-d551-45b6-88a0-6cfba52a7725",
   "metadata": {},
   "outputs": [],
   "source": []
  },
  {
   "cell_type": "markdown",
   "id": "0c421823-a017-4f40-8f09-7b4c5db89fd4",
   "metadata": {},
   "source": [
    "# Movie Recommendation Function\n",
    "### Our data is ready to use the clustering results to try and recommend a movie by the name of the one you like"
   ]
  },
  {
   "cell_type": "code",
   "execution_count": 119,
   "id": "5e49c113-5f8f-44dd-b69e-ac9335d028a0",
   "metadata": {},
   "outputs": [],
   "source": [
    "import random\n",
    "\n",
    "def recommend_movie(movie_name: str):\n",
    "    movie_name = movie_name.lower()\n",
    "    df_movies['name'] = df_movies.index.str.lower()\n",
    "\n",
    "    movie = df_movies[df_movies['name'].str.contains(movie_name, na=False)]\n",
    "\n",
    "    if not movie.empty:\n",
    "        cluster = movie['dbscan_clusters'].values[0]\n",
    "        cluster_movies = df_movies[df_movies['dbscan_clusters']==cluster]\n",
    "\n",
    "        if len(cluster_movies) >= 5:\n",
    "            recommmended_movies = random.sample(list(cluster_movies.index), 5)\n",
    "        else:\n",
    "            recommmended_movies = list(cluster_movies.index)\n",
    "\n",
    "        print(f\"We can recommend you these movies\")\n",
    "        for movie in recommmended_movies:\n",
    "            print(movie)\n",
    "\n",
    "    else:\n",
    "        print(\"Movie not found\")"
   ]
  },
  {
   "cell_type": "code",
   "execution_count": null,
   "id": "7a67df33-f05c-474a-94c5-55bcfe2f3abe",
   "metadata": {},
   "outputs": [],
   "source": []
  },
  {
   "cell_type": "code",
   "execution_count": 125,
   "id": "50ee8604-827e-40a0-99cc-740af36a889f",
   "metadata": {},
   "outputs": [
    {
     "name": "stdin",
     "output_type": "stream",
     "text": [
      "Enter movie name:  I Love Lucy\n"
     ]
    },
    {
     "name": "stdout",
     "output_type": "stream",
     "text": [
      "\n",
      "\n",
      "\n",
      "We can recommend you these movies\n",
      "That Damn Michael Che\n",
      "The Game\n",
      "2 Dope Queens\n",
      "Regular Show\n",
      "Reno 911!\n"
     ]
    }
   ],
   "source": [
    "input_movie = input('Enter movie name: ')\n",
    "print('\\n\\n')\n",
    "recommend_movie(input_movie)"
   ]
  },
  {
   "cell_type": "code",
   "execution_count": null,
   "id": "f082ac71-1cc2-42f7-ae64-3df8387d47fa",
   "metadata": {},
   "outputs": [],
   "source": []
  },
  {
   "cell_type": "code",
   "execution_count": null,
   "id": "16f96a8e-f10f-4466-b922-9e74ab33b0c3",
   "metadata": {},
   "outputs": [],
   "source": []
  },
  {
   "cell_type": "code",
   "execution_count": null,
   "id": "b85009f2-d808-44db-8b54-2409b2a561b7",
   "metadata": {},
   "outputs": [],
   "source": []
  },
  {
   "cell_type": "code",
   "execution_count": null,
   "id": "9be2c5cf-4ddb-4405-9e10-e6c282955046",
   "metadata": {},
   "outputs": [],
   "source": []
  },
  {
   "cell_type": "code",
   "execution_count": null,
   "id": "5c9c1400-ec1e-4f8e-963b-be6ff9efcd1f",
   "metadata": {},
   "outputs": [],
   "source": []
  },
  {
   "cell_type": "code",
   "execution_count": null,
   "id": "c53625a2-bf5e-4566-99b7-f544e377a52b",
   "metadata": {},
   "outputs": [],
   "source": []
  },
  {
   "cell_type": "code",
   "execution_count": null,
   "id": "387911e3-728f-489c-9f55-a78279c2cf6c",
   "metadata": {},
   "outputs": [],
   "source": []
  },
  {
   "cell_type": "code",
   "execution_count": null,
   "id": "053da644-6903-4cd3-8d08-9edf3ca4e7d3",
   "metadata": {},
   "outputs": [],
   "source": []
  },
  {
   "cell_type": "code",
   "execution_count": null,
   "id": "aee305df-d0c2-479a-90b1-dbffbbbd1540",
   "metadata": {},
   "outputs": [],
   "source": []
  },
  {
   "cell_type": "code",
   "execution_count": null,
   "id": "1dcdfd2d-4a07-4eec-9f60-78c49dd8a54d",
   "metadata": {},
   "outputs": [],
   "source": []
  },
  {
   "cell_type": "code",
   "execution_count": null,
   "id": "b8e0c4ef-cde8-4f68-84cd-a29fc80575f3",
   "metadata": {},
   "outputs": [],
   "source": []
  },
  {
   "cell_type": "code",
   "execution_count": null,
   "id": "1b62e9d8-f411-49e8-b4e0-1ec34129bc4e",
   "metadata": {},
   "outputs": [],
   "source": []
  },
  {
   "cell_type": "code",
   "execution_count": null,
   "id": "7e49c9be-7b9f-4a72-918b-de4d4abe9d0a",
   "metadata": {},
   "outputs": [],
   "source": []
  },
  {
   "cell_type": "code",
   "execution_count": null,
   "id": "8fe25f2f-6143-43f9-96f6-b6482a9e2abb",
   "metadata": {},
   "outputs": [],
   "source": []
  },
  {
   "cell_type": "code",
   "execution_count": null,
   "id": "71c844c2-ca17-4f5c-a85c-e1dc9290ddfb",
   "metadata": {},
   "outputs": [],
   "source": []
  },
  {
   "cell_type": "code",
   "execution_count": null,
   "id": "33345432-83b4-47fc-8f51-4937c1fa95c5",
   "metadata": {},
   "outputs": [],
   "source": []
  },
  {
   "cell_type": "code",
   "execution_count": null,
   "id": "8c2aa84d-df24-426f-a9ec-1b1557b46768",
   "metadata": {},
   "outputs": [],
   "source": []
  },
  {
   "cell_type": "code",
   "execution_count": null,
   "id": "42ee4275-ec1a-44c2-9f8d-52764ea2d8af",
   "metadata": {},
   "outputs": [],
   "source": []
  },
  {
   "cell_type": "code",
   "execution_count": null,
   "id": "7e263806-77b9-47c3-b98a-0eafdce0e34a",
   "metadata": {},
   "outputs": [],
   "source": []
  },
  {
   "cell_type": "code",
   "execution_count": null,
   "id": "60eb1a56-d269-4eb4-9937-f04ef9ff1cb2",
   "metadata": {},
   "outputs": [],
   "source": []
  },
  {
   "cell_type": "code",
   "execution_count": null,
   "id": "1d3025da-d23e-4641-96e7-56b878ac6302",
   "metadata": {},
   "outputs": [],
   "source": []
  },
  {
   "cell_type": "code",
   "execution_count": null,
   "id": "c26b9ff4-97bc-40db-b22a-6a00c35852a9",
   "metadata": {},
   "outputs": [],
   "source": []
  },
  {
   "cell_type": "code",
   "execution_count": null,
   "id": "7fcff849-8684-4e53-bfcc-231941ee0489",
   "metadata": {},
   "outputs": [],
   "source": []
  },
  {
   "cell_type": "code",
   "execution_count": null,
   "id": "86486357-551e-4e5b-834c-594d8b422565",
   "metadata": {},
   "outputs": [],
   "source": []
  },
  {
   "cell_type": "code",
   "execution_count": null,
   "id": "5100b01a-a426-4a4b-b341-6e053a7db29d",
   "metadata": {},
   "outputs": [],
   "source": []
  },
  {
   "cell_type": "code",
   "execution_count": null,
   "id": "64cbdf7a-9543-4bc7-8efc-7dd14d3eccfe",
   "metadata": {},
   "outputs": [],
   "source": []
  },
  {
   "cell_type": "code",
   "execution_count": null,
   "id": "c1073531-ccaf-42ea-9c90-40348c41c2c3",
   "metadata": {},
   "outputs": [],
   "source": []
  },
  {
   "cell_type": "code",
   "execution_count": null,
   "id": "748a6721-4b93-4c06-afb2-22d6b0277b43",
   "metadata": {},
   "outputs": [],
   "source": []
  },
  {
   "cell_type": "code",
   "execution_count": null,
   "id": "f8571b26-913b-4c47-8a9b-db6429b7ffc2",
   "metadata": {},
   "outputs": [],
   "source": []
  },
  {
   "cell_type": "code",
   "execution_count": null,
   "id": "bff7d647-cb0c-4253-b1e1-5da63d2906d0",
   "metadata": {},
   "outputs": [],
   "source": []
  },
  {
   "cell_type": "code",
   "execution_count": null,
   "id": "ce6810f4-74fd-4bf5-9f75-e36b381a2fdf",
   "metadata": {},
   "outputs": [],
   "source": []
  },
  {
   "cell_type": "code",
   "execution_count": null,
   "id": "4987f5c2-5b6f-4194-864f-5fc44c85df8f",
   "metadata": {},
   "outputs": [],
   "source": []
  },
  {
   "cell_type": "code",
   "execution_count": null,
   "id": "8690a6d1-a9be-4ae4-8007-84b7ccbebb53",
   "metadata": {},
   "outputs": [],
   "source": []
  },
  {
   "cell_type": "code",
   "execution_count": null,
   "id": "1fb00cf3-77d7-4adc-8f79-bf61ca600f28",
   "metadata": {},
   "outputs": [],
   "source": []
  },
  {
   "cell_type": "code",
   "execution_count": null,
   "id": "1d9fea6a-09e4-4434-bc80-312681385df1",
   "metadata": {},
   "outputs": [],
   "source": []
  },
  {
   "cell_type": "code",
   "execution_count": null,
   "id": "acd0acd5-2d7e-4a65-ace9-005f64200960",
   "metadata": {},
   "outputs": [],
   "source": []
  },
  {
   "cell_type": "code",
   "execution_count": null,
   "id": "fdc32806-7388-4b35-a57a-17d3c4381abc",
   "metadata": {},
   "outputs": [],
   "source": []
  },
  {
   "cell_type": "code",
   "execution_count": null,
   "id": "58c8c17a-75a8-4599-92a0-531afcafd6e8",
   "metadata": {},
   "outputs": [],
   "source": []
  },
  {
   "cell_type": "code",
   "execution_count": null,
   "id": "aa5a71a3-fde3-43fd-a47e-f9528b8983f5",
   "metadata": {},
   "outputs": [],
   "source": []
  },
  {
   "cell_type": "code",
   "execution_count": null,
   "id": "9ae2e9f9-b9e3-4e9a-9c3f-a0ec1b4e0561",
   "metadata": {},
   "outputs": [],
   "source": []
  },
  {
   "cell_type": "code",
   "execution_count": null,
   "id": "2a1946f2-40cb-4d7d-8c15-6c313559dd76",
   "metadata": {},
   "outputs": [],
   "source": []
  },
  {
   "cell_type": "code",
   "execution_count": null,
   "id": "34b70c3c-6f38-4bc7-9d46-e6141e2c42f3",
   "metadata": {},
   "outputs": [],
   "source": []
  },
  {
   "cell_type": "code",
   "execution_count": null,
   "id": "e4128c38-8c44-4351-b979-62cb849261eb",
   "metadata": {},
   "outputs": [],
   "source": []
  },
  {
   "cell_type": "code",
   "execution_count": null,
   "id": "70513d8f-23f7-4816-9d36-bd4efaeaa0a8",
   "metadata": {},
   "outputs": [],
   "source": []
  },
  {
   "cell_type": "code",
   "execution_count": null,
   "id": "61ad66d0-78d0-48ac-a974-837ed3473ecf",
   "metadata": {},
   "outputs": [],
   "source": []
  },
  {
   "cell_type": "code",
   "execution_count": null,
   "id": "4f32b531-3629-4d1d-a5ef-c876fff10f92",
   "metadata": {},
   "outputs": [],
   "source": []
  },
  {
   "cell_type": "code",
   "execution_count": null,
   "id": "29b8e111-4f7b-48ac-9cc8-aa02d37828b4",
   "metadata": {},
   "outputs": [],
   "source": []
  },
  {
   "cell_type": "code",
   "execution_count": null,
   "id": "378e032a-46b6-487a-823b-7f0ad579795e",
   "metadata": {},
   "outputs": [],
   "source": []
  },
  {
   "cell_type": "code",
   "execution_count": null,
   "id": "5a1697a5-9926-45cd-8250-d5e622c7f1f5",
   "metadata": {},
   "outputs": [],
   "source": []
  },
  {
   "cell_type": "code",
   "execution_count": null,
   "id": "6fcdae0f-0798-48cc-9345-2c30f0e269d0",
   "metadata": {},
   "outputs": [],
   "source": []
  },
  {
   "cell_type": "code",
   "execution_count": null,
   "id": "4ea095c5-1c29-4c2e-9ebd-71fe2371cc83",
   "metadata": {},
   "outputs": [],
   "source": []
  },
  {
   "cell_type": "code",
   "execution_count": null,
   "id": "f6208e66-fbb3-4a75-a9c3-e8f8375674fd",
   "metadata": {},
   "outputs": [],
   "source": []
  },
  {
   "cell_type": "code",
   "execution_count": null,
   "id": "bf8c983d-fbe6-44dc-9c11-222928d86077",
   "metadata": {},
   "outputs": [],
   "source": []
  },
  {
   "cell_type": "code",
   "execution_count": null,
   "id": "c987bf00-7cbf-4ce4-9f4a-679dd7bdf79c",
   "metadata": {},
   "outputs": [],
   "source": []
  },
  {
   "cell_type": "code",
   "execution_count": null,
   "id": "25bfccb8-cfd6-40c7-999d-dc409a32deea",
   "metadata": {},
   "outputs": [],
   "source": []
  },
  {
   "cell_type": "code",
   "execution_count": null,
   "id": "845a31ac-564e-4465-929b-0cbee8737a41",
   "metadata": {},
   "outputs": [],
   "source": []
  },
  {
   "cell_type": "code",
   "execution_count": null,
   "id": "8f8e68b2-6928-44ab-8e5f-44a21b2cdcaf",
   "metadata": {},
   "outputs": [],
   "source": []
  },
  {
   "cell_type": "code",
   "execution_count": null,
   "id": "d11b5332-1ead-45a5-be8a-980d7c8118d0",
   "metadata": {},
   "outputs": [],
   "source": []
  },
  {
   "cell_type": "code",
   "execution_count": null,
   "id": "838dd703-cd9a-46c4-9f6e-86ce64b3bcb0",
   "metadata": {},
   "outputs": [],
   "source": []
  },
  {
   "cell_type": "code",
   "execution_count": null,
   "id": "5e9f1031-d8c6-4dd6-b05f-147adbbf59ee",
   "metadata": {},
   "outputs": [],
   "source": []
  },
  {
   "cell_type": "code",
   "execution_count": null,
   "id": "4c55f89f-3eb9-4110-b995-2b98f55301e6",
   "metadata": {},
   "outputs": [],
   "source": []
  },
  {
   "cell_type": "code",
   "execution_count": null,
   "id": "b83ab3c9-37c5-4cc4-a88f-281b6e14b236",
   "metadata": {},
   "outputs": [],
   "source": []
  },
  {
   "cell_type": "code",
   "execution_count": null,
   "id": "4024aa5b-6f39-4f2a-9fe0-8beed43138e5",
   "metadata": {},
   "outputs": [],
   "source": []
  },
  {
   "cell_type": "code",
   "execution_count": null,
   "id": "1b3743e9-bf2b-4fd3-b519-bbaabc5a28b1",
   "metadata": {},
   "outputs": [],
   "source": []
  }
 ],
 "metadata": {
  "kernelspec": {
   "display_name": "Python 3 (ipykernel)",
   "language": "python",
   "name": "python3"
  },
  "language_info": {
   "codemirror_mode": {
    "name": "ipython",
    "version": 3
   },
   "file_extension": ".py",
   "mimetype": "text/x-python",
   "name": "python",
   "nbconvert_exporter": "python",
   "pygments_lexer": "ipython3",
   "version": "3.11.7"
  }
 },
 "nbformat": 4,
 "nbformat_minor": 5
}
